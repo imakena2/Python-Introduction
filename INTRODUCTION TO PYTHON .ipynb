{
 "cells": [
  {
   "cell_type": "markdown",
   "id": "da7ee1e5-0da4-452b-90f9-b91d02306ae2",
   "metadata": {},
   "source": [
    "#### Introduction To Python "
   ]
  },
  {
   "cell_type": "code",
   "execution_count": 2,
   "id": "b7ca0d85-8cea-43f5-a63f-a76675b54e68",
   "metadata": {},
   "outputs": [
    {
     "name": "stdout",
     "output_type": "stream",
     "text": [
      "Hello, World\n"
     ]
    }
   ],
   "source": [
    "print(\"Hello, World\")"
   ]
  },
  {
   "cell_type": "markdown",
   "id": "0ececf6a-02ba-426b-bdf7-4b1e4d9c740d",
   "metadata": {},
   "source": [
    "### Introducing the int data type\n",
    "#A function is a piece of reusable code with a name. You use a function by:\n",
    "#1. Calling by its name\n",
    "#2. Including a list of one or more inputs called arguments, which are enclosed in parentheses\n",
    "#Python has several built-in functions that you can use to help you write more useful programs.\n",
    "#A collection of functions is called a library. Python’s collection of built-in functions is called the Python Standard Library."
   ]
  },
  {
   "cell_type": "code",
   "execution_count": 3,
   "id": "b6dcec2b-706a-42e7-94c0-81efbd35faec",
   "metadata": {},
   "outputs": [
    {
     "name": "stdout",
     "output_type": "stream",
     "text": [
      "Python has three numeric types: int, float, and complex\n"
     ]
    }
   ],
   "source": [
    "print(\"Python has three numeric types: int, float, and complex\")"
   ]
  },
  {
   "cell_type": "markdown",
   "id": "63c9241a-726d-4097-98f1-e5e2fd296720",
   "metadata": {},
   "source": [
    "### Creating a Variable\n",
    "#A variable is like a labeled box that stores information. You can change the contents of the box, but the label stays the same. In this activity, you will use the variable name myValue, but will store different data types in that labeled box.\n",
    "#Return to the Python file and on a new line, enter the following code:myValue=1"
   ]
  },
  {
   "cell_type": "code",
   "execution_count": 4,
   "id": "b8b87797-9e7f-44da-9115-cf4b3b6bdb3b",
   "metadata": {},
   "outputs": [],
   "source": [
    "myValue=1"
   ]
  },
  {
   "cell_type": "code",
   "execution_count": 6,
   "id": "caa0113d-7ef7-43fc-a677-7c68d6ff6d70",
   "metadata": {},
   "outputs": [],
   "source": [
    "#Use the print() function to write the value of the variable to the shell. In the context of programming, writing means to add information to the shell."
   ]
  },
  {
   "cell_type": "code",
   "execution_count": 5,
   "id": "1ff63213-6fd1-4e59-95ac-16aa0d596a19",
   "metadata": {},
   "outputs": [
    {
     "name": "stdout",
     "output_type": "stream",
     "text": [
      "1\n"
     ]
    }
   ],
   "source": [
    "print(myValue)"
   ]
  },
  {
   "cell_type": "code",
   "execution_count": null,
   "id": "b91caa51-e9de-4ad4-87d0-64c7c9042a40",
   "metadata": {},
   "outputs": [],
   "source": [
    "#To get the data type of the variable, use the type() built-in function:"
   ]
  },
  {
   "cell_type": "code",
   "execution_count": 22,
   "id": "45cd50b5-7ed8-4bc1-b1b5-5e5f37841af1",
   "metadata": {},
   "outputs": [
    {
     "name": "stdout",
     "output_type": "stream",
     "text": [
      "<class 'int'>\n"
     ]
    }
   ],
   "source": [
    "print(type(myValue))"
   ]
  },
  {
   "cell_type": "code",
   "execution_count": null,
   "id": "00fdf129-6926-4f87-909a-301d59ec6752",
   "metadata": {},
   "outputs": [],
   "source": [
    "##Introducing the string data type\n",
    "enter the following code:"
   ]
  },
  {
   "cell_type": "code",
   "execution_count": 7,
   "id": "d7ea6817-5b7f-400c-a722-b9bd7f568e94",
   "metadata": {},
   "outputs": [
    {
     "name": "stdout",
     "output_type": "stream",
     "text": [
      "<class 'int'>\n"
     ]
    }
   ],
   "source": [
    "print(type(myValue))"
   ]
  },
  {
   "cell_type": "code",
   "execution_count": 12,
   "id": "1bf28b69-15ba-4e58-965a-7e80e9a38b10",
   "metadata": {},
   "outputs": [
    {
     "name": "stdout",
     "output_type": "stream",
     "text": [
      "This is a string.\n"
     ]
    }
   ],
   "source": [
    "myString = \"This is a string.\"\n",
    "print(myString)\n",
    "##Confirm that the script runs correctly and that the output displays as you expect it to."
   ]
  },
  {
   "cell_type": "code",
   "execution_count": null,
   "id": "13bff8a5-d582-4c68-b8fc-15c2102671c6",
   "metadata": {},
   "outputs": [],
   "source": [
    "##Extend the Python script by using the built-in function type() to get the data type of the variable. Enter the following code:"
   ]
  },
  {
   "cell_type": "code",
   "execution_count": 10,
   "id": "f0fd26ac-cce8-4a01-bbbe-9f077afc4e47",
   "metadata": {},
   "outputs": [
    {
     "name": "stdout",
     "output_type": "stream",
     "text": [
      "<class 'str'>\n"
     ]
    }
   ],
   "source": [
    "print(type(myString))"
   ]
  },
  {
   "cell_type": "code",
   "execution_count": 11,
   "id": "0792ec3f-84a0-4a2b-883b-af2b0c6db15c",
   "metadata": {},
   "outputs": [
    {
     "name": "stdout",
     "output_type": "stream",
     "text": [
      "This is a string. is of the data type <class 'str'>\n"
     ]
    }
   ],
   "source": [
    "print(myString + \" is of the data type \" + str(type(myString)))"
   ]
  },
  {
   "cell_type": "markdown",
   "id": "3e8f05bf-52ba-452b-8b7f-478dfefe1478",
   "metadata": {},
   "source": [
    "## Introducing the tuple data type"
   ]
  },
  {
   "cell_type": "markdown",
   "id": "479dedb0-f2b8-4bc5-8337-251c9fd7b955",
   "metadata": {},
   "source": [
    "The tuple is like a list, but it can't be changed. A data type that can't be changed after it's created is said to be immutable. To define a tuple, you use parentheses instead of brackets ([])."
   ]
  },
  {
   "cell_type": "code",
   "execution_count": 23,
   "id": "6852edfa-7b2d-47bc-b463-010c05de152c",
   "metadata": {},
   "outputs": [],
   "source": [
    "Fruits=(\"Apple\", \"Pineapple\", \"Bananas\", \"Orange\", \"Kiwi\")"
   ]
  },
  {
   "cell_type": "code",
   "execution_count": 16,
   "id": "49406398-1812-480c-b753-1c61fdf5acca",
   "metadata": {},
   "outputs": [
    {
     "name": "stdout",
     "output_type": "stream",
     "text": [
      "('Apple', 'Pineapple', 'Bananas', 'Orange', 'Kiwi')\n"
     ]
    }
   ],
   "source": [
    "print(Fruits)"
   ]
  },
  {
   "cell_type": "code",
   "execution_count": 17,
   "id": "be7430d0-0d8e-45e3-9914-aa9390ce6909",
   "metadata": {},
   "outputs": [
    {
     "name": "stdout",
     "output_type": "stream",
     "text": [
      "<class 'tuple'>\n"
     ]
    }
   ],
   "source": [
    "print(type(Fruits))"
   ]
  },
  {
   "cell_type": "code",
   "execution_count": 18,
   "id": "a852e4d3-66f1-4572-b58c-e0873804f647",
   "metadata": {},
   "outputs": [
    {
     "name": "stdout",
     "output_type": "stream",
     "text": [
      "Pineapple\n"
     ]
    }
   ],
   "source": [
    "print(Fruits[1])"
   ]
  },
  {
   "cell_type": "code",
   "execution_count": 19,
   "id": "3cc9f8a8-818f-422f-a346-47ed54f1a663",
   "metadata": {},
   "outputs": [
    {
     "name": "stdout",
     "output_type": "stream",
     "text": [
      "Kiwi\n"
     ]
    }
   ],
   "source": [
    "print(Fruits[-1])"
   ]
  },
  {
   "cell_type": "markdown",
   "id": "ccc7134c-ef19-4c78-881f-5f4041be8c56",
   "metadata": {},
   "source": [
    "## Introducing the dictionary data type"
   ]
  },
  {
   "cell_type": "code",
   "execution_count": null,
   "id": "3ede8f9f-0809-4ecd-99cd-5a547755f392",
   "metadata": {},
   "outputs": [],
   "source": [
    "To define a dictionary, you use ({})"
   ]
  },
  {
   "cell_type": "code",
   "execution_count": 24,
   "id": "976f016b-066f-4b86-bbca-307c11b07c3c",
   "metadata": {},
   "outputs": [],
   "source": [
    "FruitDictionary = {\n",
    "  \"Akua\" : \"apple\",\n",
    "  \"Saanvi\" : \"banana\",\n",
    "  \"Paulo\" : \"pineapple\"\n",
    "}"
   ]
  },
  {
   "cell_type": "code",
   "execution_count": 25,
   "id": "270ef82f-f636-4462-aae8-91c7ff3e0d46",
   "metadata": {},
   "outputs": [
    {
     "name": "stdout",
     "output_type": "stream",
     "text": [
      "{'Akua': 'apple', 'Saanvi': 'banana', 'Paulo': 'pineapple'}\n"
     ]
    }
   ],
   "source": [
    "print(FruitDictionary)"
   ]
  },
  {
   "cell_type": "code",
   "execution_count": 26,
   "id": "7beb1dbe-3658-4d7f-a4e4-32e457385ee6",
   "metadata": {},
   "outputs": [
    {
     "name": "stdout",
     "output_type": "stream",
     "text": [
      "<class 'dict'>\n"
     ]
    }
   ],
   "source": [
    "print(type(FruitDictionary))"
   ]
  },
  {
   "cell_type": "code",
   "execution_count": null,
   "id": "d9b88c03-7ce3-4da3-8250-bcc05ed1be8d",
   "metadata": {},
   "outputs": [],
   "source": [
    "Accessing a dictionary by name"
   ]
  },
  {
   "cell_type": "code",
   "execution_count": 27,
   "id": "a2d62eab-a3d8-4bf0-9244-6a8be1978e11",
   "metadata": {},
   "outputs": [
    {
     "name": "stdout",
     "output_type": "stream",
     "text": [
      "apple\n"
     ]
    }
   ],
   "source": [
    "print(FruitDictionary[\"Akua\"])"
   ]
  },
  {
   "cell_type": "code",
   "execution_count": 29,
   "id": "3df759cc-1bdc-49ae-9cc2-20271ada3542",
   "metadata": {},
   "outputs": [
    {
     "name": "stdout",
     "output_type": "stream",
     "text": [
      "pineapple\n"
     ]
    }
   ],
   "source": [
    "print(FruitDictionary[\"Paulo\"])"
   ]
  },
  {
   "cell_type": "code",
   "execution_count": 30,
   "id": "05f06dd8-9108-4e99-be15-a3b2ebca7ade",
   "metadata": {},
   "outputs": [
    {
     "name": "stdout",
     "output_type": "stream",
     "text": [
      "banana\n"
     ]
    }
   ],
   "source": [
    "print(FruitDictionary[\"Saanvi\"])"
   ]
  },
  {
   "cell_type": "markdown",
   "id": "72a4ddb2-7158-4c0c-93bb-762541416edc",
   "metadata": {},
   "source": [
    "## Creating a mixed-type list"
   ]
  },
  {
   "cell_type": "code",
   "execution_count": null,
   "id": "d6ccf836-f57c-4603-8a97-fbb2939c9083",
   "metadata": {},
   "outputs": [],
   "source": [
    "Define a list with different types:"
   ]
  },
  {
   "cell_type": "code",
   "execution_count": 34,
   "id": "1cd8bfc6-bb4c-4b39-8d91-c25407794aa7",
   "metadata": {},
   "outputs": [
    {
     "name": "stdout",
     "output_type": "stream",
     "text": [
      "1 is of the data type <class 'int'>\n",
      "hello is of the data type <class 'str'>\n",
      "3.14 is of the data type <class 'float'>\n",
      "True is of the data type <class 'bool'>\n",
      "None is of the data type <class 'NoneType'>\n",
      "[1, 2, 3] is of the data type <class 'list'>\n",
      "{'key': 'value'} is of the data type <class 'dict'>\n",
      "(4, 5) is of the data type <class 'tuple'>\n"
     ]
    }
   ],
   "source": [
    "# Define a mixed-type list\n",
    "myMixedTypeList = [1, \"hello\", 3.14, True, None, [1, 2, 3], {\"key\": \"value\"}, (4, 5)]\n",
    "\n",
    "#Use a for loop statement to traverse the list and print the data type for each item in the list:\n",
    "for item in myMixedTypeList:\n",
    "    print(\"{} is of the data type {}\".format(item, type(item)))\n"
   ]
  },
  {
   "cell_type": "markdown",
   "id": "0d84f4e8-6879-4b83-89a2-9497160644b2",
   "metadata": {},
   "source": [
    "#### Working with Composite Data Types"
   ]
  },
  {
   "cell_type": "markdown",
   "id": "5a3dd61e-27fd-4474-a61c-c42b0d2e43f6",
   "metadata": {},
   "source": [
    "A composite data type is any data type that comprises primitive data types. You will create a data type that consists of a string that is in a dictionary, which is in a list."
   ]
  },
  {
   "cell_type": "markdown",
   "id": "e11f14e6-8e9e-4403-a5c5-c25f4c8e9880",
   "metadata": {},
   "source": [
    "First, import the modules that you will use:"
   ]
  },
  {
   "cell_type": "code",
   "execution_count": 35,
   "id": "eec5573a-3048-40b1-bf75-288b28640959",
   "metadata": {},
   "outputs": [],
   "source": [
    "import csv\n",
    "import copy"
   ]
  },
  {
   "cell_type": "markdown",
   "id": "dcfbf51a-20e4-4c63-8b47-1aee52197548",
   "metadata": {},
   "source": [
    "Next, define a dictionary that will serve as your composite type for reading the tabular data:"
   ]
  },
  {
   "cell_type": "code",
   "execution_count": 42,
   "id": "0bc3ee28-4704-4e43-9269-358e8d02aa90",
   "metadata": {},
   "outputs": [
    {
     "name": "stdout",
     "output_type": "stream",
     "text": [
      "vin : <empty>\n",
      "make : <empty>\n",
      "model : <empty>\n",
      "year : 0\n",
      "range : 0\n",
      "topSpeed : 0\n",
      "zeroSixty : 0.0\n",
      "mileage : 0\n"
     ]
    }
   ],
   "source": [
    "myVehicle = {\n",
    "    \"vin\" : \"<empty>\",\n",
    "    \"make\" : \"<empty>\" ,\n",
    "    \"model\" : \"<empty>\" ,\n",
    "    \"year\" : 0,\n",
    "    \"range\" : 0,\n",
    "    \"topSpeed\" : 0,\n",
    "    \"zeroSixty\" : 0.0,\n",
    "    \"mileage\" : 0\n",
    "}\n",
    "##You will use a for loop to iterate over the initial keys and values of the dictionary\n",
    "for key, value in myVehicle.items():\n",
    "    print(\"{} : {}\".format(key,value))"
   ]
  },
  {
   "cell_type": "code",
   "execution_count": null,
   "id": "50e8c68d-2321-44f0-951d-2ee2f4e82d9c",
   "metadata": {},
   "outputs": [],
   "source": [
    "##Note: The items() function belongs to the dictionary data type. The items() function tells the for loop to traverse the collection owned by the dictionary data type."
   ]
  },
  {
   "cell_type": "code",
   "execution_count": null,
   "id": "a0501560-101a-4b07-8ca6-9eaa61649f68",
   "metadata": {},
   "outputs": [],
   "source": [
    "##Define an empty list to hold the car inventory that you will read:"
   ]
  },
  {
   "cell_type": "code",
   "execution_count": 43,
   "id": "fac7eca2-f6f8-4010-9bd5-d378bc838e23",
   "metadata": {},
   "outputs": [],
   "source": [
    "myInventoryList = []"
   ]
  },
  {
   "cell_type": "markdown",
   "id": "3e6e6bda-4e3d-4155-b6cc-f8048e79fe9c",
   "metadata": {},
   "source": [
    "Copying the CSV file into memory\n",
    "You will read in the data from disk (hard drive) and make an in-memory (random access memory, or RAM) copy. In a computer, a hard drive stores data long term, including when the power is turned off. RAM refers to temporary memory that is faster, but it is erased when the computer's power is turned off.\n",
    "\n",
    "You will be introduced to the with open syntax statement, which keeps a file open while you read data. It will automatically close the CSV file when the code inside the with block is finished running.\n",
    "\n",
    "You will also use a new way of formatting a string. Instead of using double quotation marks and .format to pass in the variables, you can use a single quotation mark and write in the variables between the \"{}\" symbols.\n",
    "\n",
    "Finally, csv.reader() is a function that you are using from the csv library that you imported with the import csv statement.\n",
    "\n",
    "Most of the rest of the code should be familiar.\n",
    "\n",
    "Now, return to the Python file:"
   ]
  },
  {
   "cell_type": "markdown",
   "id": "f724c40c-13eb-4000-ad51-68863895fbf3",
   "metadata": {},
   "source": [
    "Enter the following code:"
   ]
  },
  {
   "cell_type": "code",
   "execution_count": 47,
   "id": "a8fbb6ee-682e-46fd-88ed-3fbf31a57ed9",
   "metadata": {},
   "outputs": [
    {
     "name": "stdout",
     "output_type": "stream",
     "text": [
      "Column names are: vin, make, model, year, range, topSpeed, zeroSixty, mileage\n",
      "vin: TMX20122 make: AnyCompany Motors, model:  Coupe, year:  2012, range:  335, topSpeed:  155, zeroSixty:  4.1, mileage:  50000\n",
      "vin: TM320163 make: AnyCompany Motors, model:  Sedan, year:  2016, range:  240, topSpeed:  140, zeroSixty:  5.2, mileage:  20000\n",
      "vin: TMX20121 make: AnyCompany Motors, model:  SUV, year:  2012, range:  295, topSpeed:  155, zeroSixty:  4.7, mileage:  100000\n",
      "vin: TMX20204 make: AnyCompany Motors, model:  Truck, year:  2020, range:  300, topSpeed:  155, zeroSixty:  3.5, mileage:  0\n",
      "Processed 5 lines.\n",
      "[{'vin': 'TMX20122', 'make': 'AnyCompany Motors', 'model': ' Coupe', 'year': ' 2012', 'range': ' 335', 'topSpeed': ' 155', 'zeroSixty': ' 4.1', 'mileage': ' 50000'}, {'vin': 'TM320163', 'make': 'AnyCompany Motors', 'model': ' Sedan', 'year': ' 2016', 'range': ' 240', 'topSpeed': ' 140', 'zeroSixty': ' 5.2', 'mileage': ' 20000'}, {'vin': 'TMX20121', 'make': 'AnyCompany Motors', 'model': ' SUV', 'year': ' 2012', 'range': ' 295', 'topSpeed': ' 155', 'zeroSixty': ' 4.7', 'mileage': ' 100000'}, {'vin': 'TMX20204', 'make': 'AnyCompany Motors', 'model': ' Truck', 'year': ' 2020', 'range': ' 300', 'topSpeed': ' 155', 'zeroSixty': ' 3.5', 'mileage': ' 0'}]\n"
     ]
    }
   ],
   "source": [
    "import csv\n",
    "import copy\n",
    "\n",
    "# Initialize the vehicle template and inventory list\n",
    "myVehicle = {\n",
    "    \"vin\": \"\",\n",
    "    \"make\": \"\",\n",
    "    \"model\": \"\",\n",
    "    \"year\": \"\",\n",
    "    \"range\": \"\",\n",
    "    \"topSpeed\": \"\",\n",
    "    \"zeroSixty\": \"\",\n",
    "    \"mileage\": \"\"\n",
    "}\n",
    "myInventoryList = []\n",
    "\n",
    "# Open and read the CSV file\n",
    "with open('carfleet.csv') as csvFile:\n",
    "    csvReader = csv.reader(csvFile, delimiter=',')\n",
    "    lineCount = 0\n",
    "    \n",
    "    for row in csvReader:\n",
    "        if lineCount == 0:\n",
    "            # Print the column names (header)\n",
    "            print(f'Column names are: {\", \".join(row)}')\n",
    "        else:\n",
    "            # Print the vehicle details\n",
    "            print(f'vin: {row[0]} make: {row[1]}, model: {row[2]}, year: {row[3]}, range: {row[4]}, topSpeed: {row[5]}, zeroSixty: {row[6]}, mileage: {row[7]}')\n",
    "            \n",
    "            # Deep copy the vehicle template and update its values\n",
    "            currentVehicle = copy.deepcopy(myVehicle)\n",
    "            currentVehicle[\"vin\"] = row[0]\n",
    "            currentVehicle[\"make\"] = row[1]\n",
    "            currentVehicle[\"model\"] = row[2]\n",
    "            currentVehicle[\"year\"] = row[3]\n",
    "            currentVehicle[\"range\"] = row[4]\n",
    "            currentVehicle[\"topSpeed\"] = row[5]\n",
    "            currentVehicle[\"zeroSixty\"] = row[6]\n",
    "            currentVehicle[\"mileage\"] = row[7]\n",
    "            \n",
    "            # Append the updated vehicle to the inventory list\n",
    "            myInventoryList.append(currentVehicle)\n",
    "        \n",
    "        lineCount += 1\n",
    "\n",
    "    print(f'Processed {lineCount} lines.')\n",
    "\n",
    "# Optionally, print the entire inventory list\n",
    "print(myInventoryList)\n"
   ]
  },
  {
   "cell_type": "markdown",
   "id": "2a15fe72-0337-482a-ae37-1991125a62f6",
   "metadata": {},
   "source": [
    "Though this code seems like a large amount of code to process, it mostly comprises statements that you saw in earlier labs. You have a for loop with an if-else statement followed by a print() statement at the end.\n",
    "\n",
    "However, the following line needs further explanation:"
   ]
  },
  {
   "cell_type": "code",
   "execution_count": 48,
   "id": "66d58586-1c74-42a9-ac89-c04fa47de295",
   "metadata": {},
   "outputs": [],
   "source": [
    "currentVehicle = copy.deepcopy(myVehicle)"
   ]
  },
  {
   "cell_type": "markdown",
   "id": "b671aa31-639b-43c3-a8d8-81d8bb0492c4",
   "metadata": {},
   "source": [
    "By default, Python does a shallow copy of complex data types. A shallow copy refers, or points, to the storage location of the myVehicle dictionary variable. Without this line, you would have only one storage box, and only the last item in the list would be copied into memory. This line makes sure that new storage boxes are created in memory to store the new tabular data that is being read"
   ]
  },
  {
   "cell_type": "markdown",
   "id": "7c8f7a9d-d831-430c-82cc-dbb665879a70",
   "metadata": {},
   "source": [
    "You will finish the Python script by printing the car inventory from the myInventoryList variable."
   ]
  },
  {
   "cell_type": "code",
   "execution_count": 49,
   "id": "04c64d6f-1c90-49e7-93c5-709b1be42977",
   "metadata": {},
   "outputs": [
    {
     "name": "stdout",
     "output_type": "stream",
     "text": [
      "vin : TMX20122\n",
      "-----\n",
      "make : AnyCompany Motors\n",
      "-----\n",
      "model :  Coupe\n",
      "-----\n",
      "year :  2012\n",
      "-----\n",
      "range :  335\n",
      "-----\n",
      "topSpeed :  155\n",
      "-----\n",
      "zeroSixty :  4.1\n",
      "-----\n",
      "mileage :  50000\n",
      "-----\n",
      "vin : TM320163\n",
      "-----\n",
      "make : AnyCompany Motors\n",
      "-----\n",
      "model :  Sedan\n",
      "-----\n",
      "year :  2016\n",
      "-----\n",
      "range :  240\n",
      "-----\n",
      "topSpeed :  140\n",
      "-----\n",
      "zeroSixty :  5.2\n",
      "-----\n",
      "mileage :  20000\n",
      "-----\n",
      "vin : TMX20121\n",
      "-----\n",
      "make : AnyCompany Motors\n",
      "-----\n",
      "model :  SUV\n",
      "-----\n",
      "year :  2012\n",
      "-----\n",
      "range :  295\n",
      "-----\n",
      "topSpeed :  155\n",
      "-----\n",
      "zeroSixty :  4.7\n",
      "-----\n",
      "mileage :  100000\n",
      "-----\n",
      "vin : TMX20204\n",
      "-----\n",
      "make : AnyCompany Motors\n",
      "-----\n",
      "model :  Truck\n",
      "-----\n",
      "year :  2020\n",
      "-----\n",
      "range :  300\n",
      "-----\n",
      "topSpeed :  155\n",
      "-----\n",
      "zeroSixty :  3.5\n",
      "-----\n",
      "mileage :  0\n",
      "-----\n"
     ]
    }
   ],
   "source": [
    "for myCarProperties in myInventoryList:\n",
    "    for key, value in myCarProperties.items():\n",
    "        print(\"{} : {}\".format(key,value))\n",
    "        print(\"-----\")"
   ]
  },
  {
   "cell_type": "markdown",
   "id": "ff7c2298-8832-4016-aa67-77dd0828d997",
   "metadata": {},
   "source": [
    "#### Working with Conditionals"
   ]
  },
  {
   "cell_type": "markdown",
   "id": "b90627e9-4165-4291-9c4c-143856e37aaa",
   "metadata": {},
   "source": [
    "####Working with the if statement"
   ]
  },
  {
   "cell_type": "markdown",
   "id": "fbe8b93e-fa8b-4593-b0bf-1a73ee353c5b",
   "metadata": {},
   "source": [
    "Use the input() function to get information from the user:"
   ]
  },
  {
   "cell_type": "code",
   "execution_count": 55,
   "id": "9017bce2-b988-45dc-aa64-9a70510bb227",
   "metadata": {},
   "outputs": [
    {
     "name": "stdin",
     "output_type": "stream",
     "text": [
      "Do you need to ship a package? (Enter yes or no)  no\n"
     ]
    },
    {
     "name": "stdout",
     "output_type": "stream",
     "text": [
      "Please come back when you need to ship a package. Thank you.\n"
     ]
    }
   ],
   "source": [
    "userReply = input(\"Do you need to ship a package? (Enter yes or no) \")\n",
    "#Use the if statement to print a response.\n",
    "#Note: The == symbol is a comparative operator. It means is equal to.\n",
    "#At the prompt, enter yes and press ENTER.\n",
    "#Confirm that you see a response.\n",
    "#Run the file again.\n",
    "#At the prompt, enter no and press ENTER. Confirm that the program exits and nothing id disp\n",
    "if userReply == \"yes\":\n",
    "    print(\"We can help you ship that package!\")\n",
    "#Working with the else statement\n",
    "#To handle the condition where the user doesn't want to ship a package, use the else statement:\n",
    "else:\n",
    "    print(\"Please come back when you need to ship a package. Thank you.\") \n",
    "\n",
    "    "
   ]
  },
  {
   "cell_type": "markdown",
   "id": "0fd16cf8-b2ff-4871-90bc-e30b232bec1b",
   "metadata": {},
   "source": [
    "#### Working with the elif statement"
   ]
  },
  {
   "cell_type": "markdown",
   "id": "55bc79a8-f37e-4482-9460-654a6cdd8129",
   "metadata": {},
   "source": [
    "The elif statement always comes after an if statement and before the else statement."
   ]
  },
  {
   "cell_type": "code",
   "execution_count": 56,
   "id": "6bbc7d3c-ad89-428a-8659-8f91e8058149",
   "metadata": {},
   "outputs": [
    {
     "name": "stdin",
     "output_type": "stream",
     "text": [
      "Would you like to buy stamps, buy an envelope, or make a copy? (Enter stamps, envelope, or copy)  yes\n"
     ]
    },
    {
     "name": "stdout",
     "output_type": "stream",
     "text": [
      "Thank you, please come again.\n"
     ]
    }
   ],
   "source": [
    "userReply = input(\"Would you like to buy stamps, buy an envelope, or make a copy? (Enter stamps, envelope, or copy) \")\n",
    "if userReply == \"stamps\":\n",
    "    print(\"We have many stamp designs to choose from.\")\n",
    "elif userReply == \"envelope\":\n",
    "    print(\"We have many envelope sizes to choose from.\")\n",
    "elif userReply == \"copy\":\n",
    "    copies = input(\"How many copies would you like? (Enter a number) \")\n",
    "    print(\"Here are {} copies.\".format(copies))\n",
    "else:\n",
    "    print(\"Thank you, please come again.\")"
   ]
  },
  {
   "cell_type": "markdown",
   "id": "914aea5c-4396-4a74-818b-a79dc89b1341",
   "metadata": {},
   "source": [
    "Note: The if, elif, and else statements allow only one path to run at a time. The program doesn’t check the other statements after it finds a condition that is true.\n",
    "\n",
    "As you can see, each time through the program had slightly different results. These differences demonstrate the power of conditionals."
   ]
  },
  {
   "cell_type": "markdown",
   "id": "a9a3d339-30f1-4e72-a7f5-1349093b26d2",
   "metadata": {},
   "source": [
    "#### Working with Loops"
   ]
  },
  {
   "cell_type": "markdown",
   "id": "70734a51-0a14-489f-aeba-38ef7f6282ba",
   "metadata": {},
   "source": [
    "A loop is a segment of code that repeats. You will be introduced to two types of loops: the while loop and the for loop."
   ]
  },
  {
   "cell_type": "markdown",
   "id": "12c35511-745f-4803-a905-fa9733192bc4",
   "metadata": {},
   "source": [
    "#### Working with a while loop"
   ]
  },
  {
   "cell_type": "markdown",
   "id": "80e33f73-97f8-4315-8384-2d8f92e8fa37",
   "metadata": {},
   "source": [
    "A while loop makes a section of code repeat until a certain condition is met. In this exercise, you will create a Python script that asks the user to correctly guess a number."
   ]
  },
  {
   "cell_type": "markdown",
   "id": "e0bca6ef-c28b-4ff2-b346-257c8371daae",
   "metadata": {},
   "source": [
    "Use the print() function to inform the user about your game:"
   ]
  },
  {
   "cell_type": "code",
   "execution_count": 68,
   "id": "b33a5ba5-d3a8-4c81-9262-046ebadf7bbc",
   "metadata": {},
   "outputs": [
    {
     "name": "stdout",
     "output_type": "stream",
     "text": [
      "Welcome to Guess the Number!\n",
      "The rules are simple. I will think of a number, and you will try to guess it.\n"
     ]
    }
   ],
   "source": [
    "print(\"Welcome to Guess the Number!\")\n",
    "print(\"The rules are simple. I will think of a number, and you will try to guess it.\")"
   ]
  },
  {
   "cell_type": "markdown",
   "id": "b340c394-dd9e-46b8-a91c-59f84d5737cc",
   "metadata": {},
   "source": [
    "Confirm that the script runs correctly and that the output displays as you expect it to."
   ]
  },
  {
   "cell_type": "markdown",
   "id": "cce3e573-7bf0-4c0b-b343-27999261ed11",
   "metadata": {},
   "source": [
    "Importing random and writing a while loop\n",
    "You will use the import command to include code that someone else wrote. Up to now, you have been using built-in functions. Recall that a function is a piece of reusable code.\n",
    "\n",
    "At the top of the file, include the Python module (which is a type of library) called random.\n",
    "\n",
    "Note: By convention, import statements are placed at the top of the script"
   ]
  },
  {
   "cell_type": "code",
   "execution_count": 59,
   "id": "09980f58-9181-4dc1-b0c7-9cef5dda7ad5",
   "metadata": {},
   "outputs": [],
   "source": []
  },
  {
   "cell_type": "markdown",
   "id": "771c7afd-a330-4962-845b-94b54558abb1",
   "metadata": {},
   "source": [
    "Place the cursor on the next line after the second print() statement. Next, enter a statement that will generate a random number between 1 and 10 by using the randint() function of the random module."
   ]
  },
  {
   "cell_type": "code",
   "execution_count": 69,
   "id": "4c3ae6a9-d60e-40a3-8b7c-7546985c4a7b",
   "metadata": {},
   "outputs": [
    {
     "name": "stdin",
     "output_type": "stream",
     "text": [
      "Guess a number between 1 and 10:  9\n"
     ]
    },
    {
     "name": "stdout",
     "output_type": "stream",
     "text": [
      "You guessed 9. Sorry, that isn’t it. Try again.\n",
      "Count to 10!\n"
     ]
    },
    {
     "name": "stdin",
     "output_type": "stream",
     "text": [
      "Guess a number between 1 and 10:  10\n"
     ]
    },
    {
     "name": "stdout",
     "output_type": "stream",
     "text": [
      "You guessed 10. Sorry, that isn’t it. Try again.\n",
      "Count to 10!\n"
     ]
    },
    {
     "name": "stdin",
     "output_type": "stream",
     "text": [
      "Guess a number between 1 and 10:  2\n"
     ]
    },
    {
     "name": "stdout",
     "output_type": "stream",
     "text": [
      "You guessed 2. Sorry, that isn’t it. Try again.\n",
      "Count to 10!\n"
     ]
    },
    {
     "name": "stdin",
     "output_type": "stream",
     "text": [
      "Guess a number between 1 and 10:  9\n"
     ]
    },
    {
     "name": "stdout",
     "output_type": "stream",
     "text": [
      "You guessed 9. Sorry, that isn’t it. Try again.\n",
      "Count to 10!\n"
     ]
    },
    {
     "name": "stdin",
     "output_type": "stream",
     "text": [
      "Guess a number between 1 and 10:  1\n"
     ]
    },
    {
     "name": "stdout",
     "output_type": "stream",
     "text": [
      "You guessed 1. Sorry, that isn’t it. Try again.\n",
      "Count to 10!\n"
     ]
    },
    {
     "name": "stdin",
     "output_type": "stream",
     "text": [
      "Guess a number between 1 and 10:  2\n"
     ]
    },
    {
     "name": "stdout",
     "output_type": "stream",
     "text": [
      "You guessed 2. Sorry, that isn’t it. Try again.\n",
      "Count to 10!\n"
     ]
    },
    {
     "name": "stdin",
     "output_type": "stream",
     "text": [
      "Guess a number between 1 and 10:  3\n"
     ]
    },
    {
     "name": "stdout",
     "output_type": "stream",
     "text": [
      "You guessed 3. Sorry, that isn’t it. Try again.\n",
      "Count to 10!\n"
     ]
    },
    {
     "name": "stdin",
     "output_type": "stream",
     "text": [
      "Guess a number between 1 and 10:  4\n"
     ]
    },
    {
     "name": "stdout",
     "output_type": "stream",
     "text": [
      "You guessed 4. Sorry, that isn’t it. Try again.\n",
      "Count to 10!\n"
     ]
    },
    {
     "name": "stdin",
     "output_type": "stream",
     "text": [
      "Guess a number between 1 and 10:  5\n"
     ]
    },
    {
     "name": "stdout",
     "output_type": "stream",
     "text": [
      "You guessed 5. Sorry, that isn’t it. Try again.\n",
      "Count to 10!\n"
     ]
    },
    {
     "name": "stdin",
     "output_type": "stream",
     "text": [
      "Guess a number between 1 and 10:  6\n"
     ]
    },
    {
     "name": "stdout",
     "output_type": "stream",
     "text": [
      "You guessed 6. That is correct! You win!\n"
     ]
    }
   ],
   "source": [
    "import random\n",
    "\n",
    "# Generate a random number between 1 and 10\n",
    "number = random.randint(1, 10)\n",
    "isGuessRight = False\n",
    "\n",
    "while not isGuessRight:\n",
    "    guess = input(\"Guess a number between 1 and 10: \")\n",
    "    if int(guess) == number:\n",
    "        print(\"You guessed {}. That is correct! You win!\".format(guess))\n",
    "        isGuessRight = True\n",
    "    else:\n",
    "        print(\"You guessed {}. Sorry, that isn’t it. Try again.\".format(guess))\n",
    "        print(\"Count to 10!\")\n",
    "    for x in range (0, 11):\n",
    "        print(x)\n"
   ]
  },
  {
   "cell_type": "markdown",
   "id": "0e7fe2d4-79ee-4898-bc18-451de3c71a84",
   "metadata": {},
   "source": [
    "Writing the for loop\n",
    "In Python, you can include a large amount of functionality in a few words. This feature makes Python relatively easy to write compared to other programming languages, but it can also make Python code more difficult to read. In this activity, you will use the for statement, but you will also spend some time analyzing it after you see it run.\n",
    "\n",
    "Confirm that the script runs correctly and that the output displays as you expect it to.\r\n",
    "\r\n",
    "Here is an explanation of what happened in those two lines. The for statement uses the for … in keywords to tell the computer to go through the list. A list is generated by the range() function. The range() function takes a starting number and an ending number, but the ending number is not inclusive. Therefore, you pass in 11 to have the function stop counting at 10. The letter x acts as a variable. Each time through the loop, the variable x is assigned to the next variable in the loop and is printed out to the screen."
   ]
  },
  {
   "cell_type": "markdown",
   "id": "c30c6dc0-7461-44df-b805-d8b8a2cc139b",
   "metadata": {},
   "source": [
    "#### SUMMARY\n",
    "#### Python fact finding exercise"
   ]
  },
  {
   "cell_type": "markdown",
   "id": "5030210f-411f-4e99-978f-aa46fea36345",
   "metadata": {},
   "source": [
    "1.Define a listand tuple in Python. Provide some examples.\n",
    "a) Tuple:\n",
    "A tuple is an immutable (unchangeable) ordered collection of elements. \n",
    "Tuples are defined by enclosing the elements in parentheses (). \n",
    "Since tuples are immutable, their content cannot be changed after they are created.\n",
    "Example:myFinalAnswerTuple = (\"apple\", \"banana\", \"pineapple\")\n",
    "        print(myFinalAnswerTuple)\n",
    "        print(type(myFinalAnswerTuple))\n",
    "b) List:\n",
    "A list is a mutable (changeable) ordered collection of elements. \n",
    "Lists are defined by enclosing the elements in square brackets []. \n",
    "Since lists are mutable, you can change their content (e.g., add, remove, or modify elements).\n",
    "Example:myFruitList = [\"apple\", \"banana\", \"cherry\"]\r",
    "        \n",
    "print(myFruitList)        \r\n",
    "print(type(myFruitLis\n",
    "        t)\n",
    "2.What is a namespacein Pytho\n",
    "\n",
    "A namespace in Python is a container that holds a set of identifiers (names) and their corresponding objects. \n",
    "Namespaces help avoid naming conflicts by organizing the names used in a program. \n",
    "Each namespace is essentially a mapping of names to objects.\n",
    "# Built-in namespace\r\n",
    "print(len([1, 2, 3]))  # len() is a built-in function\r\n",
    "\r\n",
    "# Global namespace\r\n",
    "global_var = \"I'm a global variable\"\r\n",
    "\r\n",
    "def outer_function():\r\n",
    "    # Enclosing namespace\r\n",
    "    enclosing_var = \"I'm an enclosing variable\"\r\n",
    "    \r\n",
    "    def inner_function():\r\n",
    "        # Local namespace\r\n",
    "        local_var = \"I'm a local variable\"\r\n",
    "        \r\n",
    "        print(global_var)      # Accessing global variable\r\n",
    "        print(enclosing_var)   # Accessing enclosing variable\r\n",
    "        print(local_var)       # Accessing local variable\r\n",
    "    \r\n",
    "    inner_function()\r\n",
    "\r\n",
    "outer_function()\r\n",
    "\r\n",
    "# Accessing global variable outside the functions\r\n",
    "print(global_var)\r\n",
    "# Accessing local or enclosing variables here would result in a NameError\r\n",
    "# print(enclosing_var)  # Uncommenting this line would raise NameError\r\n",
    "# print(local_var)      # Uncommenting this lie would raise NameError\r\n",
    "\n",
    "n?\n",
    "3.What is the difference between a local va\n",
    "## Local Variable\n",
    "Scope: A local variable is defined within a function and can only be accessed within that function.\n",
    "Lifetime: It exists only for the duration of the function execution. Once the function returns, the local variable is destroyed.\n",
    "Access: Local variables can be accessed only within the function where they are defined.\n",
    "Modification: Local variables can be modified freely within their function without affecting variables outside that function.\n",
    "## Global Variable\n",
    "Scope: A global variable is defined outside any function and can be accessed from any function within the same module.\n",
    "Lifetime: It exists for the duration of the program execution, from the point of its definition until the program terminates.\n",
    "Access: Global variables can be accessed from any function in the module.\n",
    "Modification: To modify a global variable within a function, you need to use the global keyword.\n",
    "\n",
    "# Global variable\r\n",
    "x = 10\r\n",
    "\r\n",
    "def my_function():\r\n",
    "    # Local variable\r\n",
    "    y = 5\r\n",
    "    print(\"Inside function, local y:\", y)\r\n",
    "    print(\"Inside function, global x:\", x)\r\n",
    "    \r\n",
    "    # Modifying global variable using the global keyword\r\n",
    "    global x\r\n",
    "    x = 20\r\n",
    "    print(\"Inside function, modified global x:\", x)\r\n",
    "    \r\n",
    "    # Local variable shadowing global variable\r\n",
    "    x = 15\r\n",
    "    print(\"Inside function, local x:\", x)\r\n",
    "    \r\n",
    "my_function()\r\n",
    "\r\n",
    "# Outside the function\r\n",
    "print(\"Outside function, global x:\", x)\r\n",
    "# print(\"Outside function, local y:\", y)  # This wo## Output\n",
    "Inside function, local y: 5\r\n",
    "Inside function, global x: 10\r\n",
    "Inside function, modified global x: 20\r\n",
    "Inside function, local x: 15\r\n",
    "Outside function, global x:\n",
    "20\r\n",
    "ld raise a NameError\r\n",
    "\n",
    "riable and a global variable?\n",
    "4.What is an IDE?\n",
    "An Integrated Development Environment (IDE) is a software application that provides comprehensive facilities to computer programmers for software development. An IDE typically includes:\n",
    "a) Code Editor: A text editor designed for writing and editing source code.\n",
    "b) Debugger: A tool to test and debug code.\n",
    "c) Compiler/Interpreter: Tools to convert code into executable programs.\n",
    "d) Build Automation Tools: Tools to automate common tasks related to software development.\n",
    "Other Features: May include features like version control integration, graphical user interface (GUI) builders, and more.\n",
    "\n",
    "#### Common IDEs for Python\n",
    "a) PyCharm\n",
    "b) Visual Studio Code (VS Code)\n",
    "c) Jupyter Notebook\n",
    " Mention some common IDEs that could be used with Py\n",
    "A module is a file containing Python definitions and statements. Modules allow you to organize your Python code logically and can include functions, classes, and variables. They can also include runnable code. Using modules helps keep your code clean and manageable, facilitates reuse, and provides a way to divide your code into separate namespaces.\n",
    "\n",
    "Some Examples:\n",
    "1. Standard Library Modules\n",
    "a) math Module\n",
    "b) datetime Module\n",
    "c) random Module\n",
    "2. User-Defined Modules\n",
    "a) my_module.py\n",
    "b) using_my_module.py\n",
    "thon.\n",
    "5.What are modulesin Python? Provide  some examp\n",
    "The terms \"array\" and \"list\" refer to different data structures with distinct characteristics and use cases. Here are the key differences between them:\n",
    "\n",
    "Lists\n",
    "a) Dynamic Size: Lists in Python are dynamic, meaning they can grow and shrink in size.\n",
    "b) Type Flexibility: Lists can store elements of different data types.\n",
    "c) Built-in Data Structure: Lists are built-in to Python and are very versatile.\n",
    "Syntax: Lists are defined using square brackets [].\n",
    "Use lists for general-purpose data storage where flexibility in size and type is needed.\n",
    "\n",
    "Example using the List:\n",
    "# Creating a list with different types of elements\r\n",
    "my_list = [1, \"apple\", 3.14, True]\n",
    "\r\n",
    "# Adding an element to a list\r\n",
    "my_list.append(\"new elemen\")\r\n",
    "\r\n",
    "# Accessing elements\r\n",
    "print(my_list[0])  # Output: 1\r\n",
    "print(my_list)     # Output: [1, 'apple', 3.14, True, 'new e\n",
    "\n",
    "Arrays\n",
    "a) Fixed Size: Arrays are typically of fixed size, meaning their size must be specified at the time of creation and cannot change dynamically.\n",
    "b) Type Homogeneity: Arrays are designed to store elements of the same data type, which allows for more efficient memory usage and performance.\n",
    "c) External Library: Arrays are not a built-in data structure in Python. You need to use libraries like array or numpy to work with arrays.\n",
    "Syntax: Arrays are defined using specific methods provided by these libraries.\n",
    "Example using the array module:\n",
    "Use arrays when you need efficient storage and manipulation of numerical data, especially when working with large datasets or performing numerical computations, in which case numpy arrays are particularly powerfull\n",
    "import array\r",
    "\r\n",
    "# Creating an array of integers\r\n",
    "my_array = array.array('i', [1, 2, 3, 4)\r\n",
    "\r\n",
    "# Adding an element to an array\r\n",
    "my_array.apped(5)\r\n",
    "\r\n",
    "# Accessing elements\r\n",
    "print(my_array[0])  # Output: 1\r\n",
    "print(my_array)     # Output: array('i', [1, 2, 3 4, 5])\r\n",
    "ement']\r\n",
    "\n",
    "les.\n",
    "6.What is the differ\n",
    "** Operators in Python are special symbols that perform operations on variables and values. They are used to perform arithmetic, comparison, logical, bitwise, and other operations.\n",
    "\n",
    "Types of Operators and Examples\n",
    "1. Operators in Python are special symbols that perform operations on variables and values. They are used to perform arithmetic, comparison, logical, bitwise, and other operations.\n",
    "\n",
    "Types of Operators and Examples\n",
    "1. Arithmetic Operators\n",
    "These operators are used to perform mathematical operations.\n",
    "\n",
    "Addition (+)\n",
    "Subtraction (-)\n",
    "Multiplication (*)\n",
    "Division (/)\n",
    "Floor Division (//)\n",
    "Modulus (%)\n",
    "Exponentiation (**)\n",
    "\n",
    "Example: \n",
    "a = 10\r\n",
    "b = 3\r\n",
    "\r\n",
    "print(a + b)    # Output: 13\r\n",
    "print(a - b)    # Output: 7\r\n",
    "print(a * b)    # Output: 30\r\n",
    "print(a / b)    # Output: 3.3333333333333335\r\n",
    "print(a // b)   # Output: 3\r\n",
    "print(a % b)    # Output: 1\r\n",
    "print(a ** b)   # Out\n",
    "\n",
    "2. Comparison (Relational) Operators\n",
    "These operators compare the values on either side of them and determine the relation between them.\n",
    "\n",
    "Equal (==)\n",
    "Not Equal (!=)\n",
    "Greater Than (>)\n",
    "Less Than (<)\n",
    "Greater Than or Equal To (>=)\n",
    "Less Than or Equal To (<=)\n",
    "\n",
    "Example:\n",
    "a = 10\r\n",
    "b = 3\r\n",
    "\r\n",
    "print(a == b)   # Output: False\r\n",
    "print(a != b)   # Output: True\r\n",
    "print(a > b)    # Output: True\r\n",
    "print(a < b)    # Output: False\r\n",
    "print(a >= b)   # Output: True\r\n",
    "print(a <= b)   # Outpu\n",
    "\n",
    "3. Logical Operators tThese operators are used to perform logical operations on Boolean values.\n",
    "AND (and)\n",
    "OR (or)\n",
    "NOT (not):\n",
    "a = True\r\n",
    "b = False\r\n",
    "\r\n",
    "print(a and b)  # Output: False\r\n",
    "print(a or b)   # Output: True\r\n",
    "print(not a)    # Output: \n",
    "\n",
    "4. Bitwise Operators\n",
    "These operators are used to perform operations on binary numbers.\n",
    "AND (&)\n",
    "OR (|)\n",
    "XOR (^)\n",
    "NOT (~)\n",
    "Left Shift (<<)\n",
    "Right Shift (>>)F\n",
    "Example:\n",
    "a = 10  # Binary: 1010\r\n",
    "b = 3   # Binary: 0011\r\n",
    "\r\n",
    "print(a & b)    # Output: 2  (Binary: 0010)\r\n",
    "print(a | b)    # Output: 11 (Binary: 1011)\r\n",
    "print(a ^ b)    # Output: 9  (Binary: 1001)\r\n",
    "print(~a)       # Output: -11 (Binary: 1111...0101)\r\n",
    "print(a << 1)   # Output: 20 (Binary: 10100)\r\n",
    "print(a >> 1)   # Output: 5  (Binar\n",
    "\n",
    "5. Assignment Operators\n",
    "These operators are used to assign values to variables.\n",
    "Assign (=)\n",
    "Add and Assign (+=)\n",
    "Subtract and Assign (-=)\n",
    "Multiply and Assign (*=)\n",
    "Divide and Assign (/=)\n",
    "Modulus and Assign (%=)\n",
    "Exponentiate and Assign (**=)\n",
    "Floor Divide and Assign (//=)\n",
    "\n",
    "Example:\n",
    "a = 10\r\n",
    "\r\n",
    "a += 3  # Equivalent to a = a + 3\r\n",
    "print(a)  # Output: 13\r\n",
    "\r\n",
    "a -= 2  # Equivalent to a = a - 2\r\n",
    "print(a)  # Output: 11\r\n",
    "\r\n",
    "a *= 2  # Equivalent to a = a * 2\r\n",
    "print(a)  # Output: 22\r\n",
    "\r\n",
    "a /= 2  # Equivalent to a = a / 2\r\n",
    "print(a)  # Output: 11.0\r\n",
    "\r\n",
    "a //= 2  # Equivalent to a = a // 2\r\n",
    "print(a)  # Output: 5.0\r\n",
    "\r\n",
    "a %= 3  # Equivalent to a = a % 3\r\n",
    "print(a)  # Output: 2.0\r\n",
    "\r\n",
    "a **= 2  # Equivalent to a = a ** 2\r\n",
    "pr\n",
    "\n",
    "6. Membership Operators\n",
    "These operators test for membership in a sequence (like strings, lists, or tuples).\n",
    "In (in)\n",
    "Not In (not in)\n",
    "\n",
    "Examples:\n",
    "a = [1, 2, 3, 4, 5]\r\n",
    "b = 3\r\n",
    "\r\n",
    "print(b in a)      # Output: True\r\n",
    "print(b not in a)  # Output: F\n",
    "\n",
    "7. Identity Operators\n",
    "These operators compare the memory locations of two objects.\n",
    "Is (is)\n",
    "Is Not (is not)\n",
    "\n",
    "Examples:aa = [1, 2, 3]\r\n",
    "b = a\r\n",
    "c = [1, 2, 3]\r\n",
    "\r\n",
    "print(a is b)       # Output: True\r\n",
    "print(a is c)       # Output: False\r\n",
    "print(a is not c)   # Output: True\r\n",
    "lse\r\n",
    "int(a)  # Output: 4.0\r\n",
    "y: 0101)\r\n",
    "alse\r\n",
    " False\r\n",
    "ut: 1000\r\n",
    "ence between an arrayand a list?\n",
    "7.What are operators? Provide some examples.\n"
   ]
  },
  {
   "cell_type": "code",
   "execution_count": null,
   "id": "edba06ee-bfea-4087-8ca9-c893b7e600aa",
   "metadata": {},
   "outputs": [],
   "source": []
  },
  {
   "cell_type": "code",
   "execution_count": null,
   "id": "594eb984-2230-407e-a56f-305318d47f0b",
   "metadata": {},
   "outputs": [],
   "source": []
  }
 ],
 "metadata": {
  "kernelspec": {
   "display_name": "Python 3 (ipykernel)",
   "language": "python",
   "name": "python3"
  },
  "language_info": {
   "codemirror_mode": {
    "name": "ipython",
    "version": 3
   },
   "file_extension": ".py",
   "mimetype": "text/x-python",
   "name": "python",
   "nbconvert_exporter": "python",
   "pygments_lexer": "ipython3",
   "version": "3.12.4"
  }
 },
 "nbformat": 4,
 "nbformat_minor": 5
}
